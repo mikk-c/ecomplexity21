{
 "cells": [
  {
   "cell_type": "code",
   "execution_count": 11,
   "id": "08bd71b5-262b-427a-8c54-560910cde315",
   "metadata": {},
   "outputs": [],
   "source": [
    "import pandas as pd"
   ]
  },
  {
   "cell_type": "code",
   "execution_count": 12,
   "id": "44c0b9a2-20c7-498f-8c87-6c48bc341355",
   "metadata": {},
   "outputs": [],
   "source": [
    "# Read the raw trade data and drop the columns we don't care about\n",
    "# This is the \"training\" datasetm spanning from 2011 to 2014\n",
    "df = pd.concat([pd.read_stata(f\"../../data/raw/country_partner_hsproduct4digit_year_{y}.dta\") for y in range(2011, 2015)])\n",
    "df = df.drop([\"location_id\", \"partner_id\", \"product_id\", \"import_value\", \"hs_eci\", \"hs_coi\"], 1)"
   ]
  },
  {
   "cell_type": "code",
   "execution_count": 13,
   "id": "d45b3172-8327-40e3-98ad-69801e9835fe",
   "metadata": {},
   "outputs": [],
   "source": [
    "# We throw out product and country codes not referring to anything in particular, then rename & reorder columns for convenience \n",
    "df = df[~df[\"hs_product_code\"].isin(set([\"9999\", \"XXXX\"])) & ~df[\"location_code\"].isin(set([\"ANS\",])) & ~df[\"partner_code\"].isin(set([\"ANS\",]))]\n",
    "df.columns = (\"year\", \"dollars\", \"exporter\", \"importer\", \"prod\")\n",
    "df = df[[\"exporter\", \"importer\", \"prod\", \"year\", \"dollars\"]]"
   ]
  },
  {
   "cell_type": "code",
   "execution_count": 14,
   "id": "989ed845-6f54-4b25-923c-7debb82ea391",
   "metadata": {},
   "outputs": [],
   "source": [
    "# We want to work only with countries and products of a minimum acceptable size\n",
    "country_size = df.groupby(by = \"exporter\")[\"dollars\"].sum() + df.groupby(by = \"importer\")[\"dollars\"].sum()\n",
    "product_size = df.groupby(by = \"prod\")[\"dollars\"].sum()\n",
    "\n",
    "# Country included if its total trade volume (import + export) is more than $11.5 billions\n",
    "# Product included if its total trade volume is more than $2.5 billions\n",
    "countries = set(country_size[country_size > 1.15e10].index)\n",
    "products = set(product_size[product_size > 2.5e9].index)\n",
    "\n",
    "df = df[df[\"exporter\"].isin(countries) & df[\"importer\"].isin(countries) & df[\"prod\"].isin(products)]\n",
    "# Throw away negative/zero trade links\n",
    "df = df[df[\"dollars\"] > 0]\n",
    "# Aggregate all the years\n",
    "df = df.groupby(by = [\"exporter\", \"importer\", \"prod\"])[\"dollars\"].sum().reset_index()"
   ]
  },
  {
   "cell_type": "code",
   "execution_count": 15,
   "id": "51e602de-a842-4ca6-8996-22fe2a03f08a",
   "metadata": {},
   "outputs": [],
   "source": [
    "# Read pop data and calculate a recent pop average (to keep countries missing data for some years)\n",
    "pop = pd.read_csv(\"../../data/raw/pop.csv\")\n",
    "# We only care about countries that are actually in our export data\n",
    "pop = pop[pop[\"exporter\"].isin(countries)]\n",
    "pop[\"pop\"] = pop[[\"2011\", \"2012\", \"2013\", \"2014\"]].mean(axis = 1)"
   ]
  },
  {
   "cell_type": "code",
   "execution_count": 16,
   "id": "a914924d-3075-4e0c-8761-db854f955138",
   "metadata": {},
   "outputs": [],
   "source": [
    "# The MCCP matrix includes the RCA and RPOP values of a trade link\n",
    "# There are multiple ways to do this, I decided to use the importer-exporter pair as a single entity\n",
    "mccp = df.copy()\n",
    "# First, add the population information for exporters and importers\n",
    "mccp = mccp.merge(pop[[\"exporter\", \"pop\"]], on = \"exporter\").merge(pop[[\"exporter\", \"pop\"]], left_on = \"importer\", right_on = \"exporter\", suffixes = (\"_expop\", \"_impop\"))\n",
    "# This is the combined importer-exporter population\n",
    "mccp[\"pop\"] = mccp[\"pop_expop\"] + mccp[\"pop_impop\"]\n",
    "mccp = mccp.drop([\"exporter_impop\", \"pop_expop\", \"pop_impop\"], 1).rename(columns = {\"exporter_expop\": \"exporter\"})\n",
    "# Estimate the \"total population\" of the pairs. This is likely not very kosher, it needs revisiting.\n",
    "pop_tot = mccp.drop_duplicates(subset = [\"exporter\", \"importer\"])[\"pop\"].sum()\n",
    "# From now on, standard way to calculate RCA and RPOP\n",
    "# First, get the totals per entity type\n",
    "link_sum = mccp.groupby(by = [\"exporter\", \"importer\"])[\"dollars\"].sum().reset_index()\n",
    "prod_sum = mccp.groupby(by = \"prod\")[\"dollars\"].sum().reset_index()\n",
    "mccp = mccp.merge(link_sum, on = [\"exporter\", \"importer\"], suffixes = (\"\", \"_linksum\")).merge(prod_sum, on = \"prod\", suffixes = (\"\", \"_prodsum\"))\n",
    "# Then, apply the formula\n",
    "mccp[\"rca\"] = (mccp[\"dollars\"] / mccp[\"dollars_linksum\"]) / (mccp[\"dollars_prodsum\"] / mccp[\"dollars\"].sum())\n",
    "mccp[\"rpop\"] = (mccp[\"dollars\"] / mccp[\"pop\"]) / (mccp[\"dollars_prodsum\"] / pop_tot)\n",
    "mccp = mccp.drop([\"pop\", \"dollars_linksum\", \"dollars_prodsum\"], 1)\n",
    "mccp.to_csv(\"../../data/processed/mccp.csv\", index = False, sep = \"\\t\")"
   ]
  },
  {
   "cell_type": "code",
   "execution_count": 17,
   "id": "077bdbab-52c6-4b81-8069-94c36b0c76eb",
   "metadata": {},
   "outputs": [],
   "source": [
    "# The MCP_exp matrix includes the RCA and RPOP values for each EXPORTER\n",
    "# Same procedure as above, but much more kosher :-)\n",
    "mcp_exp = df.copy()\n",
    "mcp_exp = mcp_exp.groupby(by = [\"exporter\", \"prod\"])[\"dollars\"].sum().reset_index()\n",
    "mcp_exp = mcp_exp.merge(pop[[\"exporter\", \"pop\"]], on = \"exporter\")\n",
    "pop_tot = mcp_exp.drop_duplicates(subset = \"exporter\")[\"pop\"].sum()\n",
    "exp_sum = mcp_exp.groupby(by = \"exporter\")[\"dollars\"].sum().reset_index()\n",
    "prod_sum = mcp_exp.groupby(by = \"prod\")[\"dollars\"].sum().reset_index()\n",
    "mcp_exp = mcp_exp.merge(exp_sum, on = \"exporter\", suffixes = (\"\", \"_expsum\")).merge(prod_sum, on = \"prod\", suffixes = (\"\", \"_prodsum\"))\n",
    "mcp_exp[\"rca\"] = (mcp_exp[\"dollars\"] / mcp_exp[\"dollars_expsum\"]) / (mcp_exp[\"dollars_prodsum\"] / mcp_exp[\"dollars\"].sum())\n",
    "mcp_exp[\"rpop\"] = (mcp_exp[\"dollars\"] / mcp_exp[\"pop\"]) / (mcp_exp[\"dollars_prodsum\"] / pop_tot)\n",
    "mcp_exp = mcp_exp.drop([\"pop\", \"dollars_expsum\", \"dollars_prodsum\"], 1)\n",
    "mcp_exp.to_csv(\"../../data/processed/mcp_exp.csv\", index = False, sep = \"\\t\")"
   ]
  },
  {
   "cell_type": "code",
   "execution_count": 18,
   "id": "987db98e-41b2-41bc-926b-f76a4858dc7b",
   "metadata": {},
   "outputs": [],
   "source": [
    "# The MCP_imp matrix includes the RCA and RPOP values for each IMPORTER\n",
    "# Same procedure as above\n",
    "mcp_imp = df.copy()\n",
    "mcp_imp = mcp_imp.groupby(by = [\"importer\", \"prod\"])[\"dollars\"].sum().reset_index()\n",
    "mcp_imp = mcp_imp.merge(pop[[\"exporter\", \"pop\"]], right_on = \"exporter\", left_on = \"importer\").drop(\"exporter\", 1)\n",
    "pop_tot = mcp_imp.drop_duplicates(subset = \"importer\")[\"pop\"].sum()\n",
    "imp_sum = mcp_imp.groupby(by = \"importer\")[\"dollars\"].sum().reset_index()\n",
    "prod_sum = mcp_imp.groupby(by = \"prod\")[\"dollars\"].sum().reset_index()\n",
    "mcp_imp = mcp_imp.merge(imp_sum, on = \"importer\", suffixes = (\"\", \"_impsum\")).merge(prod_sum, on = \"prod\", suffixes = (\"\", \"_prodsum\"))\n",
    "mcp_imp[\"rca\"] = (mcp_imp[\"dollars\"] / mcp_imp[\"dollars_impsum\"]) / (mcp_imp[\"dollars_prodsum\"] / mcp_imp[\"dollars\"].sum())\n",
    "mcp_imp[\"rpop\"] = (mcp_imp[\"dollars\"] / mcp_imp[\"pop\"]) / (mcp_imp[\"dollars_prodsum\"] / pop_tot)\n",
    "mcp_imp = mcp_imp.drop([\"pop\", \"dollars_impsum\", \"dollars_prodsum\"], 1)\n",
    "mcp_imp.to_csv(\"../../data/processed/mcp_imp.csv\", index = False, sep = \"\\t\")"
   ]
  }
 ],
 "metadata": {
  "kernelspec": {
   "display_name": "Python 3",
   "language": "python",
   "name": "python3"
  },
  "language_info": {
   "codemirror_mode": {
    "name": "ipython",
    "version": 3
   },
   "file_extension": ".py",
   "mimetype": "text/x-python",
   "name": "python",
   "nbconvert_exporter": "python",
   "pygments_lexer": "ipython3",
   "version": "3.9.5"
  }
 },
 "nbformat": 4,
 "nbformat_minor": 5
}
