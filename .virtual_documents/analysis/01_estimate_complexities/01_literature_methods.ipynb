get_ipython().run_line_magic("load_ext", " autoreload")
get_ipython().run_line_magic("autoreload", " 2")
import sys
import pandas as pd
sys.path.append("../..")
# This library will contain all the economic complexity variants I can implement
from libraries import ecomplexity as ec


# For ECI & Fitness, we only need MCP_exp
mcp_exp = pd.read_csv("../../data/processed/mcp_exp.csv", sep = "\t", dtype = {"prod": str})
mcp_exp


# Let's calculate all complexities
eci_rca, pci_rca = ec.eci(mcp_exp, variant = "rca", threshold = 1)
eci_rpop, pci_rpop = ec.eci(mcp_exp, variant = "rpop", threshold = 0.25)
fit12_rca, compl12_rca = ec.fitness12(mcp_exp, variant = "rca", threshold = 1)
fit12_rpop, compl12_rpop = ec.fitness12(mcp_exp, variant = "rpop", threshold = 0.25)
fit12_rca


# We save them in a temporary file that we can merge later to our experimental measures
# We start from the country complexities
ecis = eci_rca.merge(eci_rpop, on = "exporter", suffixes = ("_rca", "_rpop"))
fitnesses = fit12_rca.merge(fit12_rpop, on = "exporter", suffixes = ("_rca", "_rpop"))
country_df = ecis.merge(fitnesses, on = "exporter")
country_df.to_csv("literature_complexities_country.csv", sep = "\t", index = False)
country_df


# And now the product complexities
pcis = pci_rca.merge(pci_rpop, on = "prod", suffixes = ("_rca", "_rpop"))
complexities = compl12_rca.merge(compl12_rpop, on = "prod", suffixes = ("_rca", "_rpop"))
product_df = pcis.merge(complexities, on = "prod")
product_df.to_csv("literature_complexities_products.csv", sep = "\t", index = False)
product_df
